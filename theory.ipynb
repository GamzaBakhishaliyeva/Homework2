{
 "cells": [
  {
   "cell_type": "markdown",
   "metadata": {},
   "source": [
    "# Theoretical Question"
   ]
  },
  {
   "cell_type": "markdown",
   "metadata": {},
   "source": [
    "## Algorithms: \n",
    "\n",
    "splitSwap(a, l, n):\n",
    "\n",
    "    if n <= 1:\n",
    "        return\n",
    "    splitSwap(a, l, n/2)\n",
    "    splitSwap(a, l+ n /2, n/2)\n",
    "\n",
    "\n",
    "swapList(a, l, n):\n",
    "\n",
    "      for i = 0 to n/2:\n",
    "        tmp = a[l + i]\n",
    "        \n",
    "        a[l + i] = a[l + n/2 + i]\n",
    "        \n",
    "        a[l + n/2 + i] = tmp\n",
    "        \n",
    "$swapList:$ \n",
    "\n",
    "if we consider  $a$ a list with length $k$ and $i = {1,2,..,k}$ , $max(i) = {k}$,  \n",
    "And we know ${k, i, l, n}\\in \\mathbb{N}$\n",
    "The function takes the element $a[l+\\frac{n}{2}+i]$ with $i \\in [0,\\frac{n}{2}]$\n",
    "first it saves the value of $(l+i)th$ element in tmp and keep it\n",
    "then we replace the value of $(l+i)th$ element with the value of $(l+ n/2 + i)th$ element\n",
    "at the end we put back the value of $(l+i)th$ element to the $(l+ n/2 + i)$ index.\n",
    "finally, briefly the function swap the sublist of $a$ list in range of $l$ and $n/2$.\n",
    "the starting index woild be $l$ and the length of swap woulb be $n$ with a subgroup of $n/2$. \n",
    "So if $n = 6$ the number of total elemts will swap woulb be $6$ in a groups of $3$ elements, $l$ will indicate the starting index.\n",
    "So $swapList(a, l, n)$ takes the elements from the list $a$ in ragene of $l$ and $l+\\frac{n}{2}-1$ and swap them with those in range $l+\\frac{n}{2}$ and $l+n-1$ however it keeps subgroups order.\n",
    "\n",
    "$splitSwap:$\n",
    "\n",
    "$splitList(a, l, n)$ takes the elements in ragene $l$ and $l+n-1$ then swaps the order of elements in this ragene.\n",
    "\n",
    "$splitList(a, l, n)$ swaps the index position of the elements in subgroup starting from the $l^{th}$ and $(l+1)^{th}$.\n",
    "\n",
    "splitList algorithm exacute several timesthe $4th$ line \"I mean the part in $splitList(a, l, \\frac{n}{2})$\".\n",
    "\n",
    "we will see the same process at the range $(l+2)^{th}$ and $(l+3)^{th}$ which been swapeds the position of the subsets and moves to the next elements and repeat the process again.\n",
    "\n",
    "At the end two subsets shoud be swap after reoganizing by $\\frac{n}{2}$."
   ]
  },
  {
   "cell_type": "code",
   "execution_count": null,
   "metadata": {},
   "outputs": [],
   "source": [
    "def swapList(a, l, n):\n",
    "    for i in range(0,int(n/2)):\n",
    "        tmp = a[l + i]\n",
    "        a[l + i] = a[l + int(n/2 )+ i-1]\n",
    "        a[l + int(n/2) + i-1] = tmp\n",
    "    return a \n",
    "\n",
    "def splitSwap(a, l, n):\n",
    "    if n <= 1:\n",
    "        pass\n",
    "    else:\n",
    "        splitSwap(a, l, int(n/2))\n",
    "        splitSwap(a, l+ int(n /2), int(n/2))\n",
    "        return swapList(a, l, n)  \n",
    "\n",
    "a = [1,2,3,4,5,6 ,7,8,9,10]\n",
    "n =6\n",
    "l =0\n",
    "splitSwap(a, l, n) "
   ]
  },
  {
   "cell_type": "code",
   "execution_count": null,
   "metadata": {},
   "outputs": [],
   "source": [
    "swapList(a, l, n)"
   ]
  },
  {
   "cell_type": "markdown",
   "metadata": {},
   "source": [
    "## Time Analysis"
   ]
  },
  {
   "cell_type": "markdown",
   "metadata": {},
   "source": [
    "This algorithm divides the problem into a number of subproblems recursively, each subproblem being of size n/2. \n",
    "Its solution tree has two nodes for each recursive call, with the children of that node being the other calls made from that call. The leaves of the tree are the base cases of the recursion. \n",
    "Each node does an amount of work that corresponds to the size of the sub problem passed to that instance of the recursive call. \n",
    "The total amount of work done by the entire algorithm is the sum of the work performed by all the nodes in the tree. To calculate this we can use the Master Theorem; first of all we need the recursive function for this algorithm, which is:\n",
    "$$T(n) =  2T(\\frac{n}{2}) + \\mathcal{f}(\\frac{n}{2})  $$\n",
    "\n",
    "Because every subproblem has dimension $\\frac{n}{2}$ and the subproblems are two at every step. \n",
    "Meanwhile $\\mathcal{f}(\\frac{n}{2})$ is the work of the swapList function. \n",
    "This kind of recursive function falls into the second case described by the master theorem.\n",
    "In this case the numbers of subprolems at each step (a=2) is equal to the number that we divide n by (b=2), so the critical exponent (which is $\\log{a}{b}$ is equal to 1. This means that the solution of the relation is:\n",
    "\n",
    "$$T(n) =  \\mathcal{O}(n\\log(n))  $$\n",
    "\n",
    "The algorithm is not optimal though, because if we consider n or len(a) that are power of 2 the algorithm time would start to become exponential beacuse $\\mathcal{f}(n)$ would be exponential and the same would be for the number of subproblems generated by the main function."
   ]
  }
 ],
 "metadata": {
  "kernelspec": {
   "display_name": "Python 3",
   "language": "python",
   "name": "python3"
  },
  "language_info": {
   "codemirror_mode": {
    "name": "ipython",
    "version": 3
   },
   "file_extension": ".py",
   "mimetype": "text/x-python",
   "name": "python",
   "nbconvert_exporter": "python",
   "pygments_lexer": "ipython3",
   "version": "3.6.7"
  }
 },
 "nbformat": 4,
 "nbformat_minor": 2
}
